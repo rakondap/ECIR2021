{
 "cells": [
  {
   "cell_type": "markdown",
   "metadata": {},
   "source": [
    "This notebook is part of the tutorial on large scale IE under privacy constraints."
   ]
  },
  {
   "cell_type": "markdown",
   "metadata": {},
   "source": [
    "Read files from directory. This is expected to be an html file representing email."
   ]
  },
  {
   "cell_type": "code",
   "execution_count": 2,
   "metadata": {},
   "outputs": [],
   "source": [
    "def read_file(file_path): \n",
    "    with open(file_path, 'r') as f: \n",
    "        return (f.read()) "
   ]
  },
  {
   "cell_type": "code",
   "execution_count": 3,
   "metadata": {},
   "outputs": [],
   "source": [
    "file_html = []"
   ]
  },
  {
   "cell_type": "code",
   "execution_count": 26,
   "metadata": {},
   "outputs": [
    {
     "name": "stdout",
     "output_type": "stream",
     "text": [
      "D:\\Technical\\emailExtraction\\tutorial\\ecir21\\excercise\\emailFiles\\Booking confirmed for Jaipur To Hyderabad, Booking Id_ FF20121711252162.eml\n",
      "D:\\Technical\\emailExtraction\\tutorial\\ecir21\\excercise\\emailFiles\\Confirmation Email (1).eml\n",
      "D:\\Technical\\emailExtraction\\tutorial\\ecir21\\excercise\\emailFiles\\Confirmation Email (2).eml\n",
      "D:\\Technical\\emailExtraction\\tutorial\\ecir21\\excercise\\emailFiles\\Confirmation Email (3).eml\n",
      "D:\\Technical\\emailExtraction\\tutorial\\ecir21\\excercise\\emailFiles\\Confirmation Email (4).eml\n",
      "D:\\Technical\\emailExtraction\\tutorial\\ecir21\\excercise\\emailFiles\\Hyderabad to Indore Flight E-Ticket.eml\n",
      "D:\\Technical\\emailExtraction\\tutorial\\ecir21\\excercise\\emailFiles\\MakeMyTrip Customer ETicket _ NF72695162380045.eml\n"
     ]
    }
   ],
   "source": [
    "import os\n",
    "# Folder Path\n",
    "Dir_name = r\"D:\\Technical\\emailExtraction\\tutorial\\ecir21\\excercise\\emailFiles\"\n",
    "os.chdir(Dir_name) \n",
    "# iterate through all file \n",
    "for file in os.listdir(): \n",
    "    # Check whether file is in text format or not \n",
    "    if file.endswith(\".eml\"): \n",
    "        file_name = f\"{Dir_name}\\{file}\"\n",
    "        print(file_name)\n",
    "        file_html.append(read_file(file_name)) "
   ]
  },
  {
   "cell_type": "code",
   "execution_count": 5,
   "metadata": {},
   "outputs": [
    {
     "data": {
      "text/plain": [
       "7"
      ]
     },
     "execution_count": 5,
     "metadata": {},
     "output_type": "execute_result"
    }
   ],
   "source": [
    "len(file_html)"
   ]
  },
  {
   "cell_type": "code",
   "execution_count": 14,
   "metadata": {},
   "outputs": [],
   "source": [
    "file_text = []"
   ]
  },
  {
   "cell_type": "markdown",
   "metadata": {},
   "source": [
    "Clean the email from HTML format."
   ]
  },
  {
   "cell_type": "code",
   "execution_count": 15,
   "metadata": {},
   "outputs": [],
   "source": [
    "import sys\n",
    "from bs4 import BeautifulSoup\n",
    "\n",
    "from html.parser import HTMLParser\n",
    "def clean_html():\n",
    "    for fileTextIns in file_html:\n",
    "        soup = BeautifulSoup(fileTextIns, \"html.parser\")\n",
    "        if soup.body:\n",
    "            for child in soup.body.children:\n",
    "                if child.name == 'script':\n",
    "                    child.decompose() \n",
    "            file_text.append(soup.body.get_text('\\n'))"
   ]
  },
  {
   "cell_type": "markdown",
   "metadata": {},
   "source": [
    "Extract all dates from a given text. For different"
   ]
  },
  {
   "cell_type": "code",
   "execution_count": 16,
   "metadata": {},
   "outputs": [],
   "source": [
    "def extract_date(text):\n",
    "    months =\"January|February|March|April|May|June|July|August|September|October|November|December|Jan|Feb|Mar|Apr|Jun|Jul|Aug|Sep|Oct|Nov|Dec\"\n",
    "    years = \"([\\d]{4}|'[\\d]{2})\"\n",
    "    pattern1 = r\"(([\\d]{1,2})/([\\d]{1,2})/(\"+years+\"))\"\n",
    "    pattern2 = r\"(([\\d]{1,2}\\s(\"+ months +\")[,.-]?\\s\"+years+\"))\"\n",
    "    pattern3 = r\"(((\"+ months +\")\\s[\\d]{1,2}[,.-]?\\s\"+years+\"))\"\n",
    "    pattern4 = r\"(((0?[1-9]|[12][0-9]|3[01])/(0?[1-9]|1[0-2])/(\\d\\d))|[012][0-9][0-9][0-9]-[01][0-9]-[0123]?[0-9](t|T)[012][0-9]:[0-5][0-9](:[0-5][0-9])?(.[0-9]{3})?([+-][012][0-9](:)?[0-5][0-9])?Z?)\"\n",
    "    return re.finditer(pattern1 + \"|\" + pattern2 + \"|\" + pattern3 + \"|\" + pattern4, text, re.IGNORECASE)"
   ]
  },
  {
   "cell_type": "code",
   "execution_count": 17,
   "metadata": {},
   "outputs": [
    {
     "name": "stdout",
     "output_type": "stream",
     "text": [
      "0\n",
      "<re.Match object; span=(536, 548), match='Dec 17, 2020'>\n",
      "1\n",
      "<re.Match object; span=(803, 814), match='2 Dec, 2019'>\n",
      "<re.Match object; span=(843, 854), match='2 Dec, 2019'>\n",
      "2\n",
      "<re.Match object; span=(801, 813), match='18 Aug, 2019'>\n",
      "<re.Match object; span=(839, 851), match='18 Aug, 2019'>\n",
      "<re.Match object; span=(1693, 1705), match='18 Aug, 2019'>\n",
      "<re.Match object; span=(1734, 1746), match='18 Aug, 2019'>\n",
      "3\n",
      "<re.Match object; span=(893, 905), match='12 Jan, 2019'>\n",
      "<re.Match object; span=(934, 946), match='12 Jan, 2019'>\n",
      "4\n",
      "<re.Match object; span=(893, 905), match='12 Jan, 2019'>\n",
      "<re.Match object; span=(934, 946), match='12 Jan, 2019'>\n",
      "5\n",
      "<re.Match object; span=(817, 828), match='27 Dec 2020'>\n",
      "<re.Match object; span=(1060, 1071), match='27 Dec 2020'>\n",
      "6\n"
     ]
    }
   ],
   "source": [
    "import re\n",
    "import datetime\n",
    "from datetime import date\n",
    "#date_reg_exp = r'((\\d{2}-([A-Z]{3}|\\d{2})-(\\d{4}|\\d{2}))|([a-zA-Z]{3}\\s\\d{1,2},\\s\\d{4}))'\n",
    "#all regexs for datetime\n",
    "#matchDateObj = r'(([\\d]{1,2})/([\\d]{1,2})/([\\d]{4}))|(([\\d]{1,2}\\s(January|February|March|April|May|June|July|August|September|October|November|December)\\s[\\d]{4}))|(((0?[1-9]|[12][0-9]|3[01])/(0?[1-9]|1[0-2])/(\\d\\d))|[012][0-9][0-9][0-9]-[01][0-9]-[0123]?[0-9](t|T)[012][0-9]:[0-5][0-9](:[0-5][0-9])?(.[0-9]{3})?([+-][012][0-9](:)?[0-5][0-9])?Z?)'\n",
    "#date_reg_exp2 = re.compile(matchDateObj)\n",
    "#date_reg_exp2 = re.compile(r'(\\d{2}(/|-|\\.)\\w{3}(/|-|\\.)\\d{4})|([a-zA-Z]{3}\\s\\d{2}(,|-|\\.|,)?\\s\\d{4})|(\\d{2}(/|-|\\.)\\d{2}(/|-|\\.)\\d+)')\n",
    "i=0;\n",
    "clean_html()\n",
    "for fileTextIns in file_text:\n",
    "    print(i)\n",
    "    i=i+1\n",
    "    matchDateObj = extract_date(fileTextIns)\n",
    "    #matchDateObj = re.search(date_reg_exp2, fileTextIns)\n",
    "    \n",
    "    if matchDateObj:\n",
    "        for Date in matchDateObj:\n",
    "            print(Date)"
   ]
  },
  {
   "cell_type": "markdown",
   "metadata": {},
   "source": [
    "Features:\n",
    "1. Is it a min Distance between checkin keyword and the date. Ex. checkin|check-in|departure|depart|departs|leave|leaves|check\\sin|travel\n",
    "2. Is it a Min Distance between checkout keyword and the date. Ex. checkout|check-out|arrival|arrives|reaches|leaves|check\\sout\n",
    "3. Format of the date and the closest checkin keyword-- are they same or not\n",
    "4. Format of the date and the closest checkout keyword-- are they same or not\n",
    "5. Is it a Last but min Distance between checkin keyword and the date. Ex. checkin|check-in|departure|depart|departs|leave|leaves|check\\sin|travel\n",
    "6. Is it a Last but min Distance between checkout keyword and the date. Ex. checkout|check-out|arrival|arrives|reaches|leaves|check\\sout\n",
    "7. Are dates and keywords part of same \\<text\\> tag\n",
    "8. Min distance to airline code\n",
    "9. Min distance to any time\n",
    "10. Distance to the city names\n",
    "\n",
    "    "
   ]
  },
  {
   "cell_type": "code",
   "execution_count": 18,
   "metadata": {},
   "outputs": [],
   "source": [
    "def extract_checkin(text):\n",
    "    matchCheckinObj = re.search( r'checkin|check-in|departure|depart|departs|leave|leaves|check\\sin|travel\\s+date', text,re.IGNORECASE)\n",
    "    return matchCheckinObj"
   ]
  },
  {
   "cell_type": "code",
   "execution_count": 20,
   "metadata": {},
   "outputs": [],
   "source": [
    "import math\n",
    "def get_distance(x1, y1, x2, y2):\n",
    " return math.sqrt((x1-x2)* (x1-x2) + (y1-y2)*(y1-y2))"
   ]
  },
  {
   "cell_type": "code",
   "execution_count": 25,
   "metadata": {},
   "outputs": [
    {
     "name": "stdout",
     "output_type": "stream",
     "text": [
      "0\n",
      "1\n",
      "<re.Match object; span=(843, 854), match='2 Dec, 2019'>\n",
      "2\n",
      "<re.Match object; span=(1734, 1746), match='18 Aug, 2019'>\n",
      "3\n",
      "<re.Match object; span=(934, 946), match='12 Jan, 2019'>\n",
      "4\n",
      "<re.Match object; span=(934, 946), match='12 Jan, 2019'>\n",
      "5\n",
      "<re.Match object; span=(1060, 1071), match='27 Dec 2020'>\n",
      "6\n"
     ]
    }
   ],
   "source": [
    "i=0;\n",
    "for fileTextIns in file_text:\n",
    "    print(i)\n",
    "    i=i+1\n",
    "    mindist = sys.maxsize\n",
    "    matchCheckinObj = extract_checkin(fileTextIns)\n",
    "    matchDateObj = extract_date(fileTextIns)\n",
    "    obj = matchCheckinObj\n",
    "    #matchDateObj = re.search(date_reg_exp2, fileTextIns)\n",
    "    if matchCheckinObj:\n",
    "        if matchDateObj:\n",
    "            for Date in matchDateObj:\n",
    "                d = get_distance(matchCheckinObj.start(), matchCheckinObj.end(), Date.start(), Date.end())\n",
    "                if(d < mindist):\n",
    "                    mindist = d\n",
    "                    obj = Date\n",
    "            print(Date)"
   ]
  },
  {
   "cell_type": "code",
   "execution_count": null,
   "metadata": {},
   "outputs": [],
   "source": [
    "import pandas as pd\n",
    "from collections import Counter\n",
    "from sklearn.model_selection import train_test_split"
   ]
  }
 ],
 "metadata": {
  "kernelspec": {
   "display_name": "Python 3",
   "language": "python",
   "name": "python3"
  },
  "language_info": {
   "codemirror_mode": {
    "name": "ipython",
    "version": 3
   },
   "file_extension": ".py",
   "mimetype": "text/x-python",
   "name": "python",
   "nbconvert_exporter": "python",
   "pygments_lexer": "ipython3",
   "version": "3.7.6"
  }
 },
 "nbformat": 4,
 "nbformat_minor": 4
}
